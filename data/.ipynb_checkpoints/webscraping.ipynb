{
 "cells": [
  {
   "cell_type": "code",
   "execution_count": 5,
   "metadata": {},
   "outputs": [],
   "source": [
    "import selenium\n",
    "import praw\n",
    "import pandas as pd\n"
   ]
  },
  {
   "cell_type": "code",
   "execution_count": 2,
   "metadata": {},
   "outputs": [],
   "source": [
    "from selenium import webdriver\n",
    "from chromedriver_py import binary_path # this will get you the path variable\n",
    "\n",
    "svc = webdriver.ChromeService(executable_path=binary_path)\n",
    "driver = webdriver.Chrome(service=svc)"
   ]
  },
  {
   "cell_type": "code",
   "execution_count": 6,
   "metadata": {},
   "outputs": [
    {
     "name": "stdout",
     "output_type": "stream",
     "text": [
      "Title: When Your Disease Is Too Rare Even for Rare Disease Day\n",
      "Upvotes: 36\n",
      "URL: https://www.reddit.com/r/rarediseases/comments/1j0p2vo/when_your_disease_is_too_rare_even_for_rare/\n",
      "\n",
      "Title: 300 million people globally suffer from rare diseases, with over 90% lacking FDA-approved treatments. #Clinilabs is committed to supporting these individuals through numerous clinical studies aimed at finding effective treatments. Visit volunteers.clinilabs.com, be a part of the future of medicine.\n",
      "Upvotes: 15\n",
      "URL: https://i.redd.it/p0q3vc7zhwle1.png\n",
      "\n",
      "Title: Rarecap.org\n",
      "Upvotes: 18\n",
      "URL: https://www.reddit.com/r/rarediseases/comments/1j08iv0/rarecaporg/\n",
      "\n",
      "Title: RareDiseaseDay: MEF2C\n",
      "Upvotes: 5\n",
      "URL: https://i.redd.it/tzq1k22h0wle1.jpeg\n",
      "\n",
      "Title: CTNND1 Support\n",
      "Upvotes: 2\n",
      "URL: https://www.reddit.com/r/rarediseases/comments/1j0d0hw/ctnnd1_support/\n",
      "\n",
      "Title: FDA Expanded Access (Compassionate Use) | Gene Therapy\n",
      "Upvotes: 3\n",
      "URL: https://www.reddit.com/r/rarediseases/comments/1j08sa7/fda_expanded_access_compassionate_use_gene_therapy/\n",
      "\n",
      "Title: Rosey Raccoon has PKU\n",
      "Upvotes: 9\n",
      "URL: https://www.reddit.com/r/rarediseases/comments/1izxou6/rosey_raccoon_has_pku/\n",
      "\n",
      "Title: Rare Disease Day: Epidermolysis Bullosa\n",
      "Upvotes: 5\n",
      "URL: https://youtu.be/u0lLx9q8gJg?si=e1gBah-sVqmEPvuo\n",
      "\n",
      "Title: Petition for Federal Funding- Deadline 02/28/25!\n",
      "Upvotes: 8\n",
      "URL: https://www.reddit.com/r/rarediseases/comments/1iyvzub/petition_for_federal_funding_deadline_022825/\n",
      "\n",
      "Title: Support groups for Friedreich's ataxia?\n",
      "Upvotes: 3\n",
      "URL: https://www.reddit.com/r/rarediseases/comments/1iymd6i/support_groups_for_friedreichs_ataxia/\n",
      "\n"
     ]
    }
   ],
   "source": [
    "# Initialize PRAW\n",
    "reddit = praw.Reddit(\n",
    "    client_id=\"_PqximuIymUuxpkOWnGFbA\",\n",
    "    client_secret=\"R7kd0onpnNiEreGeMn44s_sb9PbSkA\",\n",
    "    user_agent=\"script:hackrare:v1.0 (by u/ExpertBreadfruit4181)\",\n",
    "    check_for_async=False\n",
    ")\n",
    "\n",
    "# Select subreddit\n",
    "subreddit = reddit.subreddit(\"rarediseases\")\n",
    "\n",
    "# Fetch posts\n",
    "for post in subreddit.hot(limit=10):\n",
    "    print(f\"Title: {post.title}\")\n",
    "    print(f\"Upvotes: {post.score}\")\n",
    "    print(f\"URL: {post.url}\\n\")"
   ]
  },
  {
   "cell_type": "code",
   "execution_count": 7,
   "metadata": {},
   "outputs": [
    {
     "name": "stdout",
     "output_type": "stream",
     "text": [
      "Title: 5-Month-Old with Progressive Feeding Difficulties and Associated Symptoms – Seeking Insights\n",
      "URL: https://www.reddit.com/r/rarediseases/comments/1ix0dbe/5monthold_with_progressive_feeding_difficulties/\n",
      "Upvotes: 5\n",
      "\n"
     ]
    }
   ],
   "source": [
    "symptom_keywords = [\n",
    "    \"tall\", \"height\", \"long limbs\", \"long fingers\", \"spider fingers\",\n",
    "    \"pectus excavatum\", \"pectus carinatum\", \"chest deformity\",\n",
    "    \"lens dislocation\", \"vision problems\", \"aortic enlargement\",\n",
    "    \"hypermobile\", \"joint pain\", \"scoliosis\", \"heart issues\"\n",
    "]\n",
    "\n",
    "# Fetch posts from subreddit\n",
    "subreddit = reddit.subreddit(\"rarediseases\")\n",
    "for post in subreddit.hot(limit=50):  # Adjust limit as needed\n",
    "    post_text = f\"{post.title} {post.selftext}\".lower()  # Combine title and body\n",
    "    if any(keyword in post_text for keyword in symptom_keywords):\n",
    "        print(f\"Title: {post.title}\")\n",
    "        print(f\"URL: {post.url}\")\n",
    "        print(f\"Upvotes: {post.score}\\n\")"
   ]
  }
 ],
 "metadata": {
  "kernelspec": {
   "display_name": "venv",
   "language": "python",
   "name": "python3"
  },
  "language_info": {
   "codemirror_mode": {
    "name": "ipython",
    "version": 3
   },
   "file_extension": ".py",
   "mimetype": "text/x-python",
   "name": "python",
   "nbconvert_exporter": "python",
   "pygments_lexer": "ipython3",
   "version": "3.12.5"
  }
 },
 "nbformat": 4,
 "nbformat_minor": 2
}
