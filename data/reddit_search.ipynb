{
 "cells": [
  {
   "cell_type": "code",
   "execution_count": 2,
   "metadata": {},
   "outputs": [],
   "source": [
    "import selenium\n",
    "import praw\n",
    "import pandas as pd\n"
   ]
  },
  {
   "cell_type": "code",
   "execution_count": 11,
   "metadata": {},
   "outputs": [
    {
     "name": "stdout",
     "output_type": "stream",
     "text": [
      "Subreddit: rarediseases\n",
      "Title: When Your Disease Is Too Rare Even for Rare Disease Day\n",
      "Upvotes: 36\n",
      "URL: https://www.reddit.com/r/rarediseases/comments/1j0p2vo/when_your_disease_is_too_rare_even_for_rare/\n",
      "\n",
      "Subreddit: ChronicIllness\n",
      "Title: For those with a rare diseases, this thread is for you!\n",
      "Upvotes: 194\n",
      "URL: https://www.reddit.com/r/ChronicIllness/comments/1j0lgk4/for_those_with_a_rare_diseases_this_thread_is_for/\n",
      "\n",
      "Subreddit: Epilepsy\n",
      "Title:   Cost Plus Drugs - Discount Med costs\n",
      "Upvotes: 14\n",
      "URL: https://www.costplusdrugs.com/\n",
      "\n",
      "Subreddit: Genetics\n",
      "Title: Monthly Homework Help Megathread\n",
      "Upvotes: 0\n",
      "URL: https://www.reddit.com/r/genetics/comments/1ibdypa/monthly_homework_help_megathread/\n",
      "\n",
      "Subreddit: clinicalresearch\n",
      "Title: Clinical Research Role/Salary Master Form & Spreadsheet\n",
      "Upvotes: 902\n",
      "URL: https://www.reddit.com/r/clinicalresearch/comments/luz3vf/clinical_research_rolesalary_master_form/\n",
      "\n",
      "Subreddit: Undiagnosed\n",
      "Title: New Rule by Community Vote - Symptom Posts restricted to Saturdays\n",
      "Upvotes: 3\n",
      "URL: https://www.reddit.com/r/undiagnosed/comments/18hmgkf/new_rule_by_community_vote_symptom_posts/\n",
      "\n"
     ]
    }
   ],
   "source": [
    "# Initialize PRAW\n",
    "reddit = praw.Reddit(\n",
    "    client_id=\"_PqximuIymUuxpkOWnGFbA\",\n",
    "    client_secret=\"R7kd0onpnNiEreGeMn44s_sb9PbSkA\",\n",
    "    user_agent=\"script:hackrare:v1.0 (by u/ExpertBreadfruit4181)\",\n",
    "    check_for_async=False\n",
    ")\n",
    "\n",
    "# Select subreddit\n",
    "\n",
    "subreddit_list = [\"rarediseases\", \n",
    "                  \"ChronicIllness\", \n",
    "                  \"Epilepsy\", \n",
    "                  \"Genetics\", \n",
    "                  \"clinicalresearch\",\n",
    "                  \"Undiagnosed\"\n",
    "                  ]\n",
    "# Fetch posts\n",
    "for name in subreddit_list:\n",
    "    print(f\"Subreddit: {name}\")\n",
    "    for post in reddit.subreddit(name).hot(limit=1):\n",
    "        print(f\"Title: {post.title}\")\n",
    "        print(f\"Upvotes: {post.score}\")\n",
    "        print(f\"URL: {post.url}\\n\")"
   ]
  },
  {
   "cell_type": "code",
   "execution_count": 14,
   "metadata": {},
   "outputs": [
    {
     "name": "stdout",
     "output_type": "stream",
     "text": [
      "Title: I hate being epileptic I feel so disabled and dependent\n",
      "URL: https://www.reddit.com/r/Epilepsy/comments/1j12qai/i_hate_being_epileptic_i_feel_so_disabled_and/\n",
      "Upvotes: 16\n",
      "\n",
      "Title: I look like I’m dying. Gout faced went from 150lbs to 111. Female 32, audio problems. Much more..\n",
      "URL: https://www.reddit.com/r/undiagnosed/comments/1avcukc/i_look_like_im_dying_gout_faced_went_from_150lbs/\n",
      "Upvotes: 4\n",
      "\n"
     ]
    }
   ],
   "source": [
    "symptom_keywords = [\n",
    "    \"tall\", \"height\", \"long limbs\", \"long fingers\", \"spider fingers\",\n",
    "    \"pectus excavatum\", \"pectus carinatum\", \"chest deformity\",\n",
    "    \"lens dislocation\", \"vision problems\", \"aortic enlargement\",\n",
    "    \"hypermobile\", \"joint pain\", \"scoliosis\", \"heart issues\"\n",
    "]\n",
    "for name in subreddit_list:\n",
    "    for post in reddit.subreddit(name).hot(limit=10):  # Adjust limit as needed\n",
    "        post_text = f\"{post.title} {post.selftext}\".lower()  # Combine title and body\n",
    "        if any(keyword in post_text for keyword in symptom_keywords):\n",
    "            print(f\"Title: {post.title}\")\n",
    "            print(f\"URL: {post.url}\")\n",
    "            print(f\"Upvotes: {post.score}\\n\")\n"
   ]
  }
 ],
 "metadata": {
  "kernelspec": {
   "display_name": "venv",
   "language": "python",
   "name": "python3"
  },
  "language_info": {
   "codemirror_mode": {
    "name": "ipython",
    "version": 3
   },
   "file_extension": ".py",
   "mimetype": "text/x-python",
   "name": "python",
   "nbconvert_exporter": "python",
   "pygments_lexer": "ipython3",
   "version": "3.12.5"
  }
 },
 "nbformat": 4,
 "nbformat_minor": 2
}
